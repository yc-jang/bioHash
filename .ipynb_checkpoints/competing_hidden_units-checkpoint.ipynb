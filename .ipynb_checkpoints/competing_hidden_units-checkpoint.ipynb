{
 "cells": [
  {
   "cell_type": "markdown",
   "metadata": {
    "colab_type": "text",
    "id": "view-in-github"
   },
   "source": [
    "<a href=\"https://colab.research.google.com/github/AlexCuozzo/Unsupervised-Learning-By-Competing-Hidden-Units/blob/master/competing_hidden_units.ipynb\" target=\"_parent\"><img src=\"https://colab.research.google.com/assets/colab-badge.svg\" alt=\"Open In Colab\"/></a>"
   ]
  },
  {
   "cell_type": "markdown",
   "metadata": {
    "colab_type": "text",
    "id": "spLGM778xUts"
   },
   "source": [
    "Importing Datasets: MNIST and CIFAR-10"
   ]
  },
  {
   "cell_type": "code",
   "execution_count": 1,
   "metadata": {
    "colab": {},
    "colab_type": "code",
    "id": "gmHkRSUjxaiQ"
   },
   "outputs": [
    {
     "ename": "ModuleNotFoundError",
     "evalue": "No module named 'matplotlib'",
     "output_type": "error",
     "traceback": [
      "\u001b[0;31m---------------------------------------------------------------------------\u001b[0m",
      "\u001b[0;31mModuleNotFoundError\u001b[0m                       Traceback (most recent call last)",
      "\u001b[0;32m<ipython-input-1-be0f1ee20c76>\u001b[0m in \u001b[0;36m<module>\u001b[0;34m\u001b[0m\n\u001b[1;32m      1\u001b[0m \u001b[0;32mimport\u001b[0m \u001b[0mscipy\u001b[0m\u001b[0;34m.\u001b[0m\u001b[0mio\u001b[0m\u001b[0;34m,\u001b[0m \u001b[0mos\u001b[0m\u001b[0;34m\u001b[0m\u001b[0;34m\u001b[0m\u001b[0m\n\u001b[1;32m      2\u001b[0m \u001b[0;32mimport\u001b[0m \u001b[0mnumpy\u001b[0m \u001b[0;32mas\u001b[0m \u001b[0mnp\u001b[0m\u001b[0;34m\u001b[0m\u001b[0;34m\u001b[0m\u001b[0m\n\u001b[0;32m----> 3\u001b[0;31m \u001b[0;32mimport\u001b[0m \u001b[0mmatplotlib\u001b[0m\u001b[0;34m.\u001b[0m\u001b[0mpyplot\u001b[0m \u001b[0;32mas\u001b[0m \u001b[0mplt\u001b[0m\u001b[0;34m\u001b[0m\u001b[0;34m\u001b[0m\u001b[0m\n\u001b[0m\u001b[1;32m      4\u001b[0m \u001b[0;34m\u001b[0m\u001b[0m\n\u001b[1;32m      5\u001b[0m \u001b[0;32mfrom\u001b[0m \u001b[0mtime\u001b[0m \u001b[0;32mimport\u001b[0m \u001b[0mtime\u001b[0m\u001b[0;34m\u001b[0m\u001b[0;34m\u001b[0m\u001b[0m\n",
      "\u001b[0;31mModuleNotFoundError\u001b[0m: No module named 'matplotlib'"
     ]
    }
   ],
   "source": [
    "  \n",
    "import scipy.io, os\n",
    "import numpy as np\n",
    "import matplotlib.pyplot as plt\n",
    "\n",
    "from time import time\n",
    "\n",
    "import torch\n",
    "import torch.nn as nn\n",
    "import torch.nn.functional as F\n",
    "from torch.utils.tensorboard import SummaryWriter\n",
    "\n",
    "from torch.utils.data import TensorDataset, DataLoader\n",
    "from torch.optim import Adam"
   ]
  },
  {
   "cell_type": "code",
   "execution_count": null,
   "metadata": {
    "colab": {
     "base_uri": "https://localhost:8080/",
     "height": 51
    },
    "colab_type": "code",
    "id": "tQ3KZrANrTdw",
    "outputId": "5755e119-f512-4793-eb3c-dfc619ffed5b"
   },
   "outputs": [],
   "source": [
    "import tensorflow as tf\n",
    "mnist  = tf.keras.datasets.mnist\n",
    "(mnist_train_x, mnist_train_y), (mnist_test_x, mnist_test_y) = mnist.load_data() #load data\n",
    "mnist_train_x, mnist_test_x = torch.tensor(mnist_train_x.reshape(-1, 28*28, order=\"F\")/255, dtype=torch.float), torch.tensor(mnist_test_x.reshape(-1, 28*28, order=\"F\")/255, dtype=torch.float)\n",
    "mnist_train_y, mnist_test_y = torch.tensor(mnist_train_y), torch.tensor(mnist_test_y)"
   ]
  },
  {
   "cell_type": "code",
   "execution_count": null,
   "metadata": {
    "colab": {
     "base_uri": "https://localhost:8080/",
     "height": 51
    },
    "colab_type": "code",
    "id": "6Fkp9gEOzAAw",
    "outputId": "106fdb9a-bc38-4fe3-91fc-5b7a4dc5dd1c"
   },
   "outputs": [],
   "source": [
    "cifar10  = tf.keras.datasets.cifar10\n",
    "(cifar10_train_x_raw, cifar10_train_y_raw), (cifar10_test_x_raw, cifar10_test_y_raw) = cifar10.load_data() #load data\n",
    "cifar10_train_x, cifar10_test_x = torch.tensor(cifar10_train_x_raw.reshape(-1, 32*32*3, order=\"F\")/255, dtype=torch.float), torch.tensor(cifar10_test_x_raw.reshape(-1, 32*32*3, order=\"F\")/255, dtype=torch.float)\n",
    "cifar10_train_y, cifar10_test_y = torch.tensor(cifar10_train_y_raw), torch.tensor(cifar10_test_y_raw)"
   ]
  },
  {
   "cell_type": "code",
   "execution_count": null,
   "metadata": {
    "colab": {
     "base_uri": "https://localhost:8080/",
     "height": 153
    },
    "colab_type": "code",
    "id": "VJA9a5iL6y-1",
    "outputId": "08b5cb0a-2535-4fd4-94f8-759e49923543"
   },
   "outputs": [],
   "source": [
    "fashion_mnist  = tf.keras.datasets.fashion_mnist\n",
    "(fashion_mnist_train_x, fashion_mnist_train_y), (fashion_mnist_test_x, fashion_mnist_test_y) = fashion_mnist.load_data() #load data\n",
    "fashion_mnist_train_x, fashion_mnist_test_x = torch.tensor(fashion_mnist_train_x.reshape(-1, 28*28, order=\"F\")/255, dtype=torch.float), torch.tensor(fashion_mnist_test_x.reshape(-1, 28*28, order=\"F\")/255, dtype=torch.float)\n",
    "fashion_mnist_train_y, fashion_mnist_test_y = torch.tensor(fashion_mnist_train_y), torch.tensor(fashion_mnist_test_y)"
   ]
  },
  {
   "cell_type": "code",
   "execution_count": null,
   "metadata": {
    "colab": {},
    "colab_type": "code",
    "id": "A0E7MjKeuuv7"
   },
   "outputs": [],
   "source": [
    "import matplotlib.pyplot as plt\n",
    "\n",
    "from matplotlib import animation, rc\n",
    "from IPython.display import HTML"
   ]
  },
  {
   "cell_type": "code",
   "execution_count": null,
   "metadata": {
    "colab": {},
    "colab_type": "code",
    "id": "xrRjqHtAwXqt"
   },
   "outputs": [],
   "source": [
    "def get_unsupervised_weights(X, n_hidden, n_epochs, batch_size, prev_weights = None,\n",
    "        learning_rate=2e-2, precision=1e-30, anti_hebbian_learning_strength=0.4, lebesgue_norm=2.0, rank=2, skip=1):\n",
    "    sample_sz = X.shape[1]    \n",
    "    if prev_weights is not None:\n",
    "      weights = prev_weights.cuda()\n",
    "    else:\n",
    "      weights = torch.rand((n_hidden, sample_sz), dtype=torch.float).cuda()\n",
    "    all_weights = torch.zeros((n_epochs*(X.shape[0]//batch_size)//skip + 1, n_hidden, sample_sz), dtype=torch.float)\n",
    "    a_w_i = 0\n",
    "    for epoch in range(n_epochs):    \n",
    "        eps = learning_rate * (1 - epoch / n_epochs)        \n",
    "        shuffled_epoch_data = X[torch.randperm(X.shape[0]),:]\n",
    "        for i in range(X.shape[0] // batch_size):\n",
    "            mini_batch = shuffled_epoch_data[i*batch_size:(i+1)*batch_size,:].cuda()            \n",
    "            mini_batch = torch.transpose(mini_batch, 0, 1)            \n",
    "            sign = torch.sign(weights)            \n",
    "            W = sign * torch.abs(weights) ** (lebesgue_norm - 1)        \n",
    "            tot_input=torch.mm(W, mini_batch)            \n",
    "            \n",
    "            y = torch.argsort(tot_input, dim=0)            \n",
    "            yl = torch.zeros((n_hidden, batch_size), dtype = torch.float).cuda()\n",
    "            yl[y[n_hidden-1,:], torch.arange(batch_size)] = 1.0\n",
    "            yl[y[n_hidden-rank], torch.arange(batch_size)] =- anti_hebbian_learning_strength            \n",
    "                    \n",
    "            xx = torch.sum(yl * tot_input,1)            \n",
    "            xx = xx.unsqueeze(1)                    \n",
    "            xx = xx.repeat(1, sample_sz)                            \n",
    "            ds = torch.mm(yl, torch.transpose(mini_batch, 0, 1)) - xx * weights            \n",
    "            \n",
    "            nc = torch.max(torch.abs(ds))            \n",
    "            if nc < precision:\n",
    "              nc = precision            \n",
    "            weights += eps*(ds/nc)\n",
    "            if a_w_i % skip == 0:\n",
    "              all_weights[a_w_i//skip] = weights\n",
    "            a_w_i += 1\n",
    "        print(\"Done: \" + str(epoch))\n",
    "    return all_weights\n"
   ]
  },
  {
   "cell_type": "code",
   "execution_count": null,
   "metadata": {
    "colab": {},
    "colab_type": "code",
    "id": "yyaqkFhh07Bs"
   },
   "outputs": [],
   "source": [
    "# def animate_unsupervised_weights(all_weights, n_hidden, n_epochs, batch_size, n_rows, n_cols, dimensions, dataset_name, starting_from = 0, cmap=None):\n",
    "#     all_weights = all_weights.cpu().numpy().reshape((-1, n_hidden,)+dimensions)\n",
    "#     if n_rows*n_cols < n_hidden:\n",
    "#       all_weights = \n",
    "#     fig, axs = plt.subplots(nrows=n_rows, ncols=n_cols, figsize=(15, 15))\n",
    "#     plt.axis('off')\n",
    "#     for ax in axs.flatten():\n",
    "#       ax.axis(\"off\")\n",
    "#     def animate(i):\n",
    "#       weights = all_weights[i]\n",
    "#       nc=np.amax(np.absolute(weights))\n",
    "#       plt.suptitle(\"Unsupervised Weights: \"+dataset_name + \"\\n Iteration:\"+str(starting_from + i))\n",
    "#       for row in range(len(axs)):\n",
    "#         for col in range(len(axs[row])):\n",
    "#           if cmap is not None:\n",
    "#             axs[row][col].imshow(weights[row*axs.shape[1]+col],cmap=cmap, vmin=-nc, vmax=nc)\n",
    "#           else:\n",
    "#             axs[row][col].imshow(weights[row*axs.shape[1]+col],cmap=cmap, vmin=-nc, vmax=nc)\n",
    "#       print(str(i) + \" of \" + str(len(all_weights)))\n",
    "#       return fig, axs\n",
    "\n",
    "#     anim = animation.FuncAnimation(fig, animate, frames=all_weights.shape[0])\n",
    "#     anim.save(dataset_name + \"_\" + str(n_hidden) + \"h_\" + str(n_epochs)+\"e_\" + str(batch_size) + \"bs\" +\".mp4\")\n",
    "\n",
    "def animate_unsupervised_weights(all_weights, n_hidden, n_epochs, batch_size, n_rows, n_cols, dimensions, dataset_name, starting_from = 0, cmap=None):\n",
    "    all_weights = all_weights.cpu().numpy().reshape((-1, n_hidden,)+dimensions, order=\"F\")\n",
    "    fig = plt.figure(figsize=(10, 6))\n",
    "    plt.axis('off')\n",
    "    if n_rows*n_cols < n_hidden:\n",
    "      all_weights = all_weights[:, np.random.choice(all_weights.shape[1], n_rows*n_cols, replace=False)]\n",
    "    if len(dimensions) == 3:\n",
    "      HM = np.zeros((n_rows*dimensions[0], n_cols*dimensions[1], dimensions[2]))\n",
    "    else:\n",
    "      HM  = np.zeros((n_rows*dimensions[0], n_cols*dimensions[1]))\n",
    "    def animate(i):\n",
    "      weights = all_weights[i]\n",
    "      nc=np.amax(np.absolute(weights))\n",
    "      for idx in range(n_cols * n_rows):\n",
    "        x, y = idx % n_cols, idx // n_cols\n",
    "        ma = weights[idx].max()\n",
    "        mi = weights[idx].min()\n",
    "        if len(dimensions) > 2:\n",
    "          HM[y*dimensions[0]:(y+1)*dimensions[0],x*dimensions[1]:(x+1)*dimensions[1]]= (weights[idx] - mi)/(ma - mi)\n",
    "        else:\n",
    "          HM[y*dimensions[0]:(y+1)*dimensions[0],x*dimensions[1]:(x+1)*dimensions[1]]= weights[idx]\n",
    "      plt.clf()\n",
    "      nc=np.amax(np.absolute(HM))\n",
    "      if cmap is not None:\n",
    "        im=plt.imshow(HM, cmap=cmap, vmin=-nc, vmax=nc)\n",
    "        fig.colorbar(im,ticks=[np.amin(HM), 0, np.amax(HM)])\n",
    "      else:\n",
    "        im = plt.imshow(HM)\n",
    "      fig.canvas.draw()\n",
    "      plt.title(\"Unsupervised Weights: \"+dataset_name + \"\\n Hidden Units: \"+str(n_hidden) + \" (\"+str(n_rows*n_cols)+\" shown)\"+\"\\n Iteration:\"+str(starting_from + i))\n",
    "      print(\"Done: \" + str(i) + \" of \" + str(len(all_weights)))      \n",
    "      return fig\n",
    "\n",
    "    anim = animation.FuncAnimation(fig, animate, frames=all_weights.shape[0])\n",
    "    anim.save(dataset_name + \"_\" + str(n_hidden) + \"h_\" + str(n_epochs)+\"e_\" + str(batch_size) + \"bs\" +\".mp4\")"
   ]
  },
  {
   "cell_type": "code",
   "execution_count": null,
   "metadata": {
    "colab": {},
    "colab_type": "code",
    "id": "eQoEj-mT2KiG"
   },
   "outputs": [],
   "source": [
    "def train_and_animate(train_data, n_epochs, n_hidden, batch_size, n_rows, n_cols, dimensions, dataset_name, prev_weights = None, starting_from = 0, skip=1, cmap=None):\n",
    "  all_weights = get_unsupervised_weights(train_data, n_hidden=n_hidden, n_epochs=n_epochs, batch_size=batch_size, prev_weights = prev_weights, skip=skip)\n",
    "  try:\n",
    "    if cmap is not None:\n",
    "      animate_unsupervised_weights(all_weights, n_hidden, n_epochs, batch_size, n_rows, n_cols, dimensions, dataset_name, starting_from, cmap=cmap)\n",
    "    else:\n",
    "      animate_unsupervised_weights(all_weights, n_hidden, n_epochs, batch_size, n_rows, n_cols, dimensions, dataset_name, starting_from)\n",
    "  except:\n",
    "    return all_weights, -1\n",
    "  return all_weights, starting_from+len(all_weights)"
   ]
  },
  {
   "cell_type": "code",
   "execution_count": null,
   "metadata": {
    "colab": {},
    "colab_type": "code",
    "id": "du4SFoigX8Db"
   },
   "outputs": [],
   "source": [
    "cifar10_weights, iteration = train_and_animate(cifar10_train_x, 50, 100, 100, 10, 10, (32, 32, 3), \"CIFAR10\", skip=50)"
   ]
  },
  {
   "cell_type": "code",
   "execution_count": null,
   "metadata": {
    "colab": {},
    "colab_type": "code",
    "id": "P92QJf96wpY9"
   },
   "outputs": [],
   "source": [
    "mnist_weights, iteration = train_and_animate(mnist_train_x, 2, 100, 100, 10, 10, (28, 28), \"MNIST\", skip=10, cmap=\"bwr\")"
   ]
  },
  {
   "cell_type": "code",
   "execution_count": null,
   "metadata": {
    "colab": {},
    "colab_type": "code",
    "id": "YQysgdKPyMPc"
   },
   "outputs": [],
   "source": [
    "cifar10_weights_lg, iteration = train_and_animate(cifar10_train_x, 30, 1600, 100, 10, 10, (32, 32, 3), \"CIFAR10\", skip=50)"
   ]
  },
  {
   "cell_type": "code",
   "execution_count": null,
   "metadata": {
    "colab": {},
    "colab_type": "code",
    "id": "JkaqxskazGh8"
   },
   "outputs": [],
   "source": []
  },
  {
   "cell_type": "code",
   "execution_count": null,
   "metadata": {
    "colab": {
     "base_uri": "https://localhost:8080/",
     "height": 283
    },
    "colab_type": "code",
    "id": "vXvtw3GH0EuI",
    "outputId": "396c991f-c510-4037-c2c0-6829fdb3a075"
   },
   "outputs": [],
   "source": []
  },
  {
   "cell_type": "code",
   "execution_count": null,
   "metadata": {
    "colab": {},
    "colab_type": "code",
    "id": "SXZWFRZX0-LW"
   },
   "outputs": [],
   "source": [
    "animate_unsupervised_weights(cifar10_weights, 100, 50, 101, 10, 10, (32, 32, 3), \"test_adsfasdf2\")"
   ]
  },
  {
   "cell_type": "code",
   "execution_count": null,
   "metadata": {
    "colab": {},
    "colab_type": "code",
    "id": "LLLSLFk61WFn"
   },
   "outputs": [],
   "source": [
    "mnist_weights_2, iteration = train_and_animate(mnist_train_x, 2, 1600, 100, 10, 10, (28, 28), \"MNIST_TOO_MANY_HIDDEN\", skip=10, cmap=\"bwr\")"
   ]
  },
  {
   "cell_type": "code",
   "execution_count": null,
   "metadata": {
    "colab": {},
    "colab_type": "code",
    "id": "58BYv2Fo1upi"
   },
   "outputs": [],
   "source": [
    "cifar10_weights_2, iteration = train_and_animate(cifar10_train_x, 29, 64, 100, 8, 8, (32, 32, 3), \"CIFAR10\", skip=50)"
   ]
  },
  {
   "cell_type": "code",
   "execution_count": null,
   "metadata": {
    "colab": {},
    "colab_type": "code",
    "id": "7OgOEF1T2TzI"
   },
   "outputs": [],
   "source": [
    "cifar10_weights_3, iteration = train_and_animate(cifar10_train_x, 10, 100, 4, 10, 10, (32, 32, 3), \"CIFAR10\", skip=50*25)"
   ]
  },
  {
   "cell_type": "code",
   "execution_count": null,
   "metadata": {
    "colab": {},
    "colab_type": "code",
    "id": "LrCm0Ujg3Aqy"
   },
   "outputs": [],
   "source": [
    "cifar10_weights_3, iteration = train_and_animate(cifar10_train_x, 10, 400, 4, 10, 10, (32, 32, 3), \"CIFAR10-lots_of-hidden-batch-small-hidden\", skip=50*5)"
   ]
  },
  {
   "cell_type": "code",
   "execution_count": null,
   "metadata": {
    "colab": {},
    "colab_type": "code",
    "id": "oRm_vbc6BIuJ"
   },
   "outputs": [],
   "source": [
    "final_weights_cifar_10 = cifar10_weights_3[-2]"
   ]
  },
  {
   "cell_type": "code",
   "execution_count": null,
   "metadata": {
    "colab": {},
    "colab_type": "code",
    "id": "OPYYkjoVBRa0"
   },
   "outputs": [],
   "source": [
    "augmented_train_cifar_10_400h = torch.mm(cifar10_train_x, final_weights_cifar_10.t())\n",
    "augmented_test_cifar_10_400h = torch.mm(cifar10_test_x, final_weights_cifar_10.t())"
   ]
  },
  {
   "cell_type": "code",
   "execution_count": null,
   "metadata": {
    "colab": {
     "base_uri": "https://localhost:8080/",
     "height": 34
    },
    "colab_type": "code",
    "id": "fFievi2MB7bh",
    "outputId": "29fac419-341f-4c98-f4a1-e261b379dc19"
   },
   "outputs": [],
   "source": [
    "import keras\n",
    "import keras.backend as K"
   ]
  },
  {
   "cell_type": "code",
   "execution_count": null,
   "metadata": {
    "colab": {},
    "colab_type": "code",
    "id": "bhXcOtJXFweZ"
   },
   "outputs": [],
   "source": [
    "#testing good cifar10 bio model vs standard\n",
    "standard_cifar10_model = keras.Sequential([\n",
    "    keras.layers.Dense(400, input_shape=(3072,)),                   \n",
    "    keras.layers.Dense(10, activation=\"softmax\")\n",
    "])\n",
    "standard_cifar10_model.compile(optimizer=\"adam\", loss=\"sparse_categorical_crossentropy\", metrics=[\"sparse_categorical_accuracy\"])\n",
    "history_standard_cifar10 = standard_cifar10_model.fit(cifar10_train_x, cifar10_train_y, batch_size=256, epochs=20, validation_data=(cifar10_test_x, cifar10_test_y))"
   ]
  },
  {
   "cell_type": "code",
   "execution_count": null,
   "metadata": {
    "colab": {},
    "colab_type": "code",
    "id": "WTIDHw_GHSQp"
   },
   "outputs": [],
   "source": [
    "bio_cifar10_model = keras.Sequential([                   \n",
    "    keras.layers.Dense(10, input_shape=(400, ), activation=\"softmax\")\n",
    "])\n",
    "bio_cifar10_model.compile(optimizer=\"adam\", loss=\"sparse_categorical_crossentropy\", metrics=[\"sparse_categorical_accuracy\"])\n",
    "history_bio_cifar10 = bio_cifar10_model.fit(augmented_train_cifar_10_400h, cifar10_train_y, batch_size=256, epochs=20, validation_data=(augmented_test_cifar_10_400h, cifar10_test_y))"
   ]
  },
  {
   "cell_type": "code",
   "execution_count": null,
   "metadata": {
    "colab": {},
    "colab_type": "code",
    "id": "COCtM3Y9PurO"
   },
   "outputs": [],
   "source": [
    "def compare_models(history_standard, history_bio):\n",
    "  fig = plt.figure(figsize=(8, 8))\n",
    "  for metric in [\"sparse_categorical_accuracy\", \"val_sparse_categorical_accuracy\"]:\n",
    "    plt.plot(history_standard.history[metric], label=\"ANN_\"+metric)\n",
    "    plt.plot(history_bio.history[metric], label=\"BIO_\"+metric)\n",
    "  plt.legend()\n",
    "  plt.show()"
   ]
  },
  {
   "cell_type": "code",
   "execution_count": null,
   "metadata": {
    "colab": {},
    "colab_type": "code",
    "id": "p5Gt3woOSahD"
   },
   "outputs": [],
   "source": [
    "compare_models(history_standard_cifar10, history_bio_cifar10)"
   ]
  },
  {
   "cell_type": "code",
   "execution_count": null,
   "metadata": {
    "colab": {},
    "colab_type": "code",
    "id": "3aNCvX6KLJyE"
   },
   "outputs": [],
   "source": [
    "mnist_weights, iteration = train_and_animate(mnist_train_x, 2, 400, 100, 10, 10, (28, 28), \"MNIST\", skip=10, cmap=\"bwr\")"
   ]
  },
  {
   "cell_type": "code",
   "execution_count": null,
   "metadata": {
    "colab": {},
    "colab_type": "code",
    "id": "fLkr6a9pPtbn"
   },
   "outputs": [],
   "source": [
    "final_weights_mnist = mnist_weights[-2]"
   ]
  },
  {
   "cell_type": "code",
   "execution_count": null,
   "metadata": {
    "colab": {},
    "colab_type": "code",
    "id": "ekzjIysZS_lW"
   },
   "outputs": [],
   "source": [
    "augmented_train_mnist = torch.mm(mnist_train_x, final_weights_mnist.t())\n",
    "augmented_test_mnist = torch.mm(mnist_test_x, final_weights_mnist.t())"
   ]
  },
  {
   "cell_type": "code",
   "execution_count": null,
   "metadata": {
    "colab": {
     "base_uri": "https://localhost:8080/",
     "height": 734
    },
    "colab_type": "code",
    "id": "0TnUJd4ZTB3L",
    "outputId": "1d1d2372-bb2d-4500-8991-a04a965da476"
   },
   "outputs": [],
   "source": [
    "#testing good cifar10 bio model vs standard\n",
    "standard_mnist_model = keras.Sequential([\n",
    "    keras.layers.Dense(400, input_shape=(28*28,)),                   \n",
    "    keras.layers.Dense(10, activation=\"softmax\")\n",
    "])\n",
    "standard_mnist_model.compile(optimizer=\"adam\", loss=\"sparse_categorical_crossentropy\", metrics=[\"sparse_categorical_accuracy\"])\n",
    "history_standard_mnist = standard_mnist_model.fit(mnist_train_x, mnist_train_y, batch_size=256, epochs=20, validation_data=(mnist_test_x, mnist_test_y))"
   ]
  },
  {
   "cell_type": "code",
   "execution_count": null,
   "metadata": {
    "colab": {
     "base_uri": "https://localhost:8080/",
     "height": 734
    },
    "colab_type": "code",
    "id": "Kc6laBa2TfTW",
    "outputId": "bf9060e6-b917-4293-89f9-198afc4067d4"
   },
   "outputs": [],
   "source": [
    "bio_mnist_model = keras.Sequential([                   \n",
    "    keras.layers.Dense(10, input_shape=(100, ), activation=\"softmax\")\n",
    "])\n",
    "bio_mnist_model.compile(optimizer=\"adam\", loss=\"sparse_categorical_crossentropy\", metrics=[\"sparse_categorical_accuracy\"])\n",
    "history_bio_mnist = bio_mnist_model.fit(augmented_train_mnist, mnist_train_y, batch_size=256, epochs=20, validation_data=(augmented_test_mnist, mnist_test_y))"
   ]
  },
  {
   "cell_type": "code",
   "execution_count": null,
   "metadata": {
    "colab": {
     "base_uri": "https://localhost:8080/",
     "height": 483
    },
    "colab_type": "code",
    "id": "TeKsZqzeT5_r",
    "outputId": "7bd2feef-10ec-4651-8150-2f09dc175ade"
   },
   "outputs": [],
   "source": [
    "compare_models(history_standard_mnist, history_bio_mnist)"
   ]
  },
  {
   "cell_type": "code",
   "execution_count": null,
   "metadata": {
    "colab": {
     "base_uri": "https://localhost:8080/",
     "height": 1000
    },
    "colab_type": "code",
    "id": "xc_a6T7iUp4t",
    "outputId": "f364844b-d704-469a-fa57-1cc7181b4013"
   },
   "outputs": [],
   "source": [
    "fashion_mnist_weights, iteration = train_and_animate(fashion_mnist_train_x, 5, 400, 50, 10, 10, (28, 28), \"FASHION_MNIST\", skip=50, cmap=\"bwr\")"
   ]
  },
  {
   "cell_type": "code",
   "execution_count": null,
   "metadata": {
    "colab": {},
    "colab_type": "code",
    "id": "kOhfkdf3Vaie"
   },
   "outputs": [],
   "source": [
    "final_weights_fashion_mnist = fashion_mnist_weights[-2]\n",
    "augmented_train_fashion_mnist_x = torch.mm(fashion_mnist_train_x, final_weights_fashion_mnist.t())\n",
    "augmented_test_fashion_mnist_x = torch.mm(fashion_mnist_test_x, final_weights_fashion_mnist.t())"
   ]
  },
  {
   "cell_type": "code",
   "execution_count": null,
   "metadata": {
    "colab": {
     "base_uri": "https://localhost:8080/",
     "height": 734
    },
    "colab_type": "code",
    "id": "2RnWr0miWyE0",
    "outputId": "38f68526-9dfb-43de-f09e-8cf8f344ca49"
   },
   "outputs": [],
   "source": [
    "#testing good cifar10 bio model vs standard\n",
    "standard_fashion_mnist_model = keras.Sequential([\n",
    "    keras.layers.Dense(400, input_shape=(28*28,)),                   \n",
    "    keras.layers.Dense(10, activation=\"softmax\")\n",
    "])\n",
    "standard_fashion_mnist_model.compile(optimizer=\"adam\", loss=\"sparse_categorical_crossentropy\", metrics=[\"sparse_categorical_accuracy\"])\n",
    "history_standard_fashion_mnist = standard_fashion_mnist_model.fit(fashion_mnist_train_x, fashion_mnist_train_y, batch_size=256, epochs=20, validation_data=(fashion_mnist_test_x, fashion_mnist_test_y))"
   ]
  },
  {
   "cell_type": "code",
   "execution_count": null,
   "metadata": {
    "colab": {
     "base_uri": "https://localhost:8080/",
     "height": 734
    },
    "colab_type": "code",
    "id": "yDbTNiXYZ1Tl",
    "outputId": "4359ba07-200d-44fe-b3b5-b3abf8c863e6"
   },
   "outputs": [],
   "source": [
    "bio_fashion_mnist_model = keras.Sequential([                   \n",
    "    keras.layers.Dense(10, input_shape=(400, ), activation=\"softmax\")\n",
    "])\n",
    "bio_fashion_mnist_model.compile(optimizer=\"adam\", loss=\"sparse_categorical_crossentropy\", metrics=[\"sparse_categorical_accuracy\"])\n",
    "history_bio_fashion_mnist = bio_fashion_mnist_model.fit(augmented_train_fashion_mnist_x, fashion_mnist_train_y, batch_size=256, epochs=20, validation_data=(augmented_test_fashion_mnist_x, fashion_mnist_test_y))"
   ]
  },
  {
   "cell_type": "code",
   "execution_count": null,
   "metadata": {
    "colab": {
     "base_uri": "https://localhost:8080/",
     "height": 483
    },
    "colab_type": "code",
    "id": "7tFQ1-ZXaGKx",
    "outputId": "ea88fb7e-734f-4a75-cb2a-7391ca065569"
   },
   "outputs": [],
   "source": [
    "compare_models(history_standard_fashion_mnist, history_bio_fashion_mnist)"
   ]
  },
  {
   "cell_type": "code",
   "execution_count": null,
   "metadata": {
    "colab": {
     "base_uri": "https://localhost:8080/",
     "height": 1000
    },
    "colab_type": "code",
    "id": "gQdtTsoQaNgv",
    "outputId": "9741d33d-1775-4d83-ec6e-a52e66f54b51"
   },
   "outputs": [],
   "source": [
    "mnist_weights_small, iteration = train_and_animate(mnist_train_x, 2, 9, 10, 3, 3, (28, 28), \"MNIST\", skip=100, cmap=\"bwr\")"
   ]
  },
  {
   "cell_type": "code",
   "execution_count": null,
   "metadata": {
    "colab": {},
    "colab_type": "code",
    "id": "nFY7gbAYam9Z"
   },
   "outputs": [],
   "source": [
    "final_weights_mnist_small = mnist_weights_small[-2]\n",
    "augmented_train_mnist_small_x = torch.mm(mnist_train_x, final_weights_mnist_small.t())\n",
    "augmented_test_mnist_small_x = torch.mm(mnist_test_x, final_weights_mnist_small.t())"
   ]
  },
  {
   "cell_type": "code",
   "execution_count": null,
   "metadata": {
    "colab": {
     "base_uri": "https://localhost:8080/",
     "height": 734
    },
    "colab_type": "code",
    "id": "z_GPtmr7at8o",
    "outputId": "c165ce7f-860a-4014-b236-b51d7694252f"
   },
   "outputs": [],
   "source": [
    "#testing good cifar10 bio model vs standard\n",
    "standard_mnist_model_small = keras.Sequential([\n",
    "    keras.layers.Dense(9, input_shape=(28*28,)),                   \n",
    "    keras.layers.Dense(10, activation=\"softmax\")\n",
    "])\n",
    "standard_mnist_model_small.compile(optimizer=\"adam\", loss=\"sparse_categorical_crossentropy\", metrics=[\"sparse_categorical_accuracy\"])\n",
    "history_standard_mnist_small = standard_mnist_model_small.fit(mnist_train_x, mnist_train_y, batch_size=256, epochs=20, validation_data=(mnist_test_x, mnist_test_y))"
   ]
  },
  {
   "cell_type": "code",
   "execution_count": null,
   "metadata": {
    "colab": {
     "base_uri": "https://localhost:8080/",
     "height": 734
    },
    "colab_type": "code",
    "id": "Jk_66DNpat-j",
    "outputId": "e89ae327-6067-46ec-c6b2-ed7372a7243d"
   },
   "outputs": [],
   "source": [
    "bio_mnist_model_small = keras.Sequential([                   \n",
    "    keras.layers.Dense(10, input_shape=(9, ), activation=\"softmax\")\n",
    "])\n",
    "bio_mnist_model_small.compile(optimizer=\"adam\", loss=\"sparse_categorical_crossentropy\", metrics=[\"sparse_categorical_accuracy\"])\n",
    "history_bio_mnist_small = bio_mnist_model_small.fit(augmented_train_mnist_small_x, mnist_train_y, batch_size=256, epochs=20, validation_data=(augmented_test_mnist_small_x, mnist_test_y))"
   ]
  },
  {
   "cell_type": "code",
   "execution_count": null,
   "metadata": {
    "colab": {
     "base_uri": "https://localhost:8080/",
     "height": 483
    },
    "colab_type": "code",
    "id": "ZtnLmB-KauAp",
    "outputId": "74a7fdbc-3ddb-4137-d4b2-d94f364486ad"
   },
   "outputs": [],
   "source": [
    "compare_models(history_standard_mnist_small, history_bio_mnist_small)"
   ]
  },
  {
   "cell_type": "code",
   "execution_count": null,
   "metadata": {
    "colab": {},
    "colab_type": "code",
    "id": "xgrMDnEjdBqs"
   },
   "outputs": [],
   "source": []
  },
  {
   "cell_type": "code",
   "execution_count": null,
   "metadata": {
    "colab": {},
    "colab_type": "code",
    "id": "Vix3ZluJe4TY"
   },
   "outputs": [],
   "source": [
    "def get_unsupervised_weights_2(X, n_hidden, n_epochs, batch_size, prev_weights = None,\n",
    "        learning_rate=2e-2, precision=1e-30, anti_hebbian_learning_strength=0.4, lebesgue_norm=2.0, rank=2):\n",
    "    sample_sz = X.shape[1]    \n",
    "    weights = torch.rand((n_hidden, sample_sz), dtype=torch.float).cuda()\n",
    "    for epoch in range(n_epochs):    \n",
    "        eps = learning_rate * (1 - epoch / n_epochs)        \n",
    "        shuffled_epoch_data = X[torch.randperm(X.shape[0]),:]\n",
    "        for i in range(X.shape[0] // batch_size):\n",
    "            mini_batch = shuffled_epoch_data[i*batch_size:(i+1)*batch_size,:].cuda()            \n",
    "            mini_batch = torch.transpose(mini_batch, 0, 1)            \n",
    "            sign = torch.sign(weights)            \n",
    "            W = sign * torch.abs(weights) ** (lebesgue_norm - 1)        \n",
    "            tot_input=torch.mm(W, mini_batch)            \n",
    "            \n",
    "            y = torch.argsort(tot_input, dim=0)            \n",
    "            yl = torch.zeros((n_hidden, batch_size), dtype = torch.float).cuda()\n",
    "            yl[y[n_hidden-1,:], torch.arange(batch_size)] = 1.0\n",
    "            yl[y[n_hidden-rank], torch.arange(batch_size)] =- anti_hebbian_learning_strength            \n",
    "                    \n",
    "            xx = torch.sum(yl * tot_input,1)            \n",
    "            xx = xx.unsqueeze(1)                    \n",
    "            xx = xx.repeat(1, sample_sz)                            \n",
    "            ds = torch.mm(yl, torch.transpose(mini_batch, 0, 1)) - xx * weights            \n",
    "            \n",
    "            nc = torch.max(torch.abs(ds))            \n",
    "            if nc < precision:\n",
    "              nc = precision            \n",
    "            weights += eps*(ds/nc)\n",
    "        print(\"Done: \" + str(epoch))\n",
    "    return weights.cpu()\n",
    "\n",
    "\n",
    "def get_final_mnist_weights(n_hidden):\n",
    "  return get_unsupervised_weights_2(mnist_train_x, n_hidden, 10, 50)"
   ]
  },
  {
   "cell_type": "code",
   "execution_count": null,
   "metadata": {
    "colab": {},
    "colab_type": "code",
    "id": "VkuEC9AEftyM"
   },
   "outputs": [],
   "source": [
    "def train_standard_mnist_model(n_hidden):\n",
    "  #testing good cifar10 bio model vs standard\n",
    "  model = keras.Sequential([\n",
    "      keras.layers.Dense(n_hidden, input_shape=(28*28,)),                   \n",
    "      keras.layers.Dense(10, activation=\"softmax\")\n",
    "  ])\n",
    "  model.compile(optimizer=\"adam\", loss=\"sparse_categorical_crossentropy\", metrics=[\"sparse_categorical_accuracy\"])\n",
    "  history = model.fit(mnist_train_x, mnist_train_y, batch_size=256, epochs=20, validation_data=(mnist_test_x, mnist_test_y))\n",
    "  return history.history"
   ]
  },
  {
   "cell_type": "code",
   "execution_count": null,
   "metadata": {
    "colab": {},
    "colab_type": "code",
    "id": "YSjvV-6VgXwL"
   },
   "outputs": [],
   "source": [
    "def train_bio_mnist_model(n_hidden, final_mnist_weights):\n",
    "  augmented_mnist_train_x = torch.mm(mnist_train_x, final_mnist_weights.t())\n",
    "  augmented_mnist_test_x = torch.mm(mnist_test_x, final_mnist_weights.t())\n",
    "\n",
    "  bio_model = keras.Sequential([                   \n",
    "    keras.layers.Dense(10, input_shape=(n_hidden, ), activation=\"softmax\")\n",
    "])\n",
    "  bio_model.compile(optimizer=\"adam\", loss=\"sparse_categorical_crossentropy\", metrics=[\"sparse_categorical_accuracy\"])\n",
    "  history_bio = bio_model.fit(augmented_mnist_train_x, mnist_train_y, batch_size=256, epochs=20, validation_data=(augmented_mnist_test_x, mnist_test_y))\n",
    "  return history_bio.history"
   ]
  },
  {
   "cell_type": "code",
   "execution_count": null,
   "metadata": {
    "colab": {
     "base_uri": "https://localhost:8080/",
     "height": 1000
    },
    "colab_type": "code",
    "id": "FL0lHOocd--A",
    "outputId": "18de5185-422b-4809-f5b3-9f9a57815a18"
   },
   "outputs": [],
   "source": [
    "fib = range(7, 13)\n",
    "standard_val_accuracies = []\n",
    "bio_val_accuracies = []\n",
    "\n",
    "for n_hidden in fib:\n",
    "  final_mnist_weights = get_final_mnist_weights(n_hidden)\n",
    "  standard_history = train_standard_mnist_model(n_hidden)\n",
    "  bio_history = train_bio_mnist_model(n_hidden, final_mnist_weights)\n",
    "  standard_val_accuracies.append(standard_history[\"val_sparse_categorical_accuracy\"])\n",
    "  bio_val_accuracies.append(bio_history[\"val_sparse_categorical_accuracy\"])"
   ]
  },
  {
   "cell_type": "code",
   "execution_count": null,
   "metadata": {
    "colab": {},
    "colab_type": "code",
    "id": "RkEeDI_vcFV1"
   },
   "outputs": [],
   "source": [
    "max_standard_val_accuracy = [i[-1] for i in standard_val_accuracies]\n",
    "max_bio_val_accuracy = [i[-1] for i in bio_val_accuracies]"
   ]
  },
  {
   "cell_type": "code",
   "execution_count": null,
   "metadata": {
    "colab": {
     "base_uri": "https://localhost:8080/",
     "height": 621
    },
    "colab_type": "code",
    "id": "CmVu2TZtd_dq",
    "outputId": "35c96cd7-a469-4612-dc90-d42141583c9b"
   },
   "outputs": [],
   "source": [
    "plt.figure(figsize=(10, 10))\n",
    "plt.plot(fib, max_standard_val_accuracy, label=\"ANN_VAL_ACCURACY\")\n",
    "plt.plot(fib, max_bio_val_accuracy, label=\"BIO_VAL_ACCURACY\")\n",
    "plt.xlabel(\"# hidden units\")\n",
    "plt.ylabel(\"Validation Accuracy\")\n",
    "plt.title(\"Hidden Units vs. Validation Accuracy\")\n",
    "plt.legend()\n",
    "plt.show()"
   ]
  },
  {
   "cell_type": "code",
   "execution_count": null,
   "metadata": {
    "colab": {
     "base_uri": "https://localhost:8080/",
     "height": 1000
    },
    "colab_type": "code",
    "id": "4kV3eNC1iylq",
    "outputId": "52893dd0-6563-49cb-c25a-a1b2fd014b38"
   },
   "outputs": [],
   "source": [
    "random_matrix = np.random.normal(0, 1, size=(1000, 784))\n",
    "random_matrix_mnist_train_x = torch.mm(mnist_train_x, torch.tensor(random_matrix.T, dtype=torch.float))\n",
    "random_matrix_mnist_test_x = torch.mm(mnist_test_x, torch.tensor(random_matrix.T, dtype=torch.float))\n",
    "                                      \n",
    "\n",
    "random_model = keras.Sequential([                   \n",
    "    keras.layers.Dense(10, input_shape=(1000, ), activation=\"softmax\")\n",
    "])\n",
    "random_model.compile(optimizer=\"adam\", loss=\"sparse_categorical_crossentropy\", metrics=[\"sparse_categorical_accuracy\"])\n",
    "history_random = random_model.fit(random_matrix_mnist_train_x, mnist_train_y, batch_size=256, epochs=20, validation_data=(random_matrix_mnist_test_x, mnist_test_y))\n",
    "\n",
    "model = keras.Sequential([\n",
    "      keras.layers.Dense(1000, input_shape=(28*28,)),                   \n",
    "      keras.layers.Dense(10, activation=\"softmax\")\n",
    "  ])\n",
    "model.compile(optimizer=\"adam\", loss=\"sparse_categorical_crossentropy\", metrics=[\"sparse_categorical_accuracy\"])\n",
    "history_standard = model.fit(mnist_train_x, mnist_train_y, batch_size=256, epochs=20, validation_data=(mnist_test_x, mnist_test_y))"
   ]
  },
  {
   "cell_type": "code",
   "execution_count": null,
   "metadata": {
    "colab": {
     "base_uri": "https://localhost:8080/",
     "height": 483
    },
    "colab_type": "code",
    "id": "LoyOYSVyjetS",
    "outputId": "63caf113-5103-4e77-f44d-1653de2382c1"
   },
   "outputs": [],
   "source": [
    "fig = plt.figure(figsize=(8, 8))\n",
    "for metric in [\"sparse_categorical_accuracy\", \"val_sparse_categorical_accuracy\"]:\n",
    "  plt.plot(history_standard.history[metric], label=\"ANN_\"+metric)\n",
    "  plt.plot(history_random.history[metric], label=\"RANDOM_\"+metric)\n",
    "plt.legend()\n",
    "plt.ylabel(\"Accuracy\")\n",
    "plt.show()"
   ]
  },
  {
   "cell_type": "code",
   "execution_count": null,
   "metadata": {
    "colab": {
     "base_uri": "https://localhost:8080/",
     "height": 1000
    },
    "colab_type": "code",
    "id": "wewkgf5Tl8jM",
    "outputId": "a3997395-fe0a-4e77-e1fa-320353469618"
   },
   "outputs": [],
   "source": [
    "mnist_weights_tiny, iteration = train_and_animate(mnist_train_x, 2, 5, 4, 2, 2, (28, 28), \"MNIST-tiny\", skip=100, cmap=\"bwr\")"
   ]
  },
  {
   "cell_type": "code",
   "execution_count": null,
   "metadata": {
    "colab": {},
    "colab_type": "code",
    "id": "tfH1Ktwgn9Y0"
   },
   "outputs": [],
   "source": []
  }
 ],
 "metadata": {
  "accelerator": "GPU",
  "colab": {
   "include_colab_link": true,
   "machine_shape": "hm",
   "name": "competing_hidden_units.ipynb",
   "provenance": []
  },
  "kernelspec": {
   "display_name": "Python 3",
   "language": "python",
   "name": "python3"
  },
  "language_info": {
   "codemirror_mode": {
    "name": "ipython",
    "version": 3
   },
   "file_extension": ".py",
   "mimetype": "text/x-python",
   "name": "python",
   "nbconvert_exporter": "python",
   "pygments_lexer": "ipython3",
   "version": "3.8.8"
  }
 },
 "nbformat": 4,
 "nbformat_minor": 1
}
